{
 "cells": [
  {
   "cell_type": "markdown",
   "id": "6a6f81ed",
   "metadata": {},
   "source": [
    "Aggregation of select tuning methods I've used throughout my career as an advanced process control engineer\n",
    "\n",
    "## Basic Models\n",
    "### Self Regulating First-Order Plus Deadtime (FOPDT)\n",
    "Example process is inline valve and liquid flow through a pipe.\n",
    "\n",
    "Laplace Transfer Function\n",
    "\n",
    "$G(s)= \\frac{K_p e^{-\\theta_d s}}{\\tau s + 1}$\n",
    "\n",
    "Where:\n",
    "\n",
    "$K_p$ = Process gain in % per % controller span<br>\n",
    "$\\tau$ = First-order process time constant in seconds<br>\n",
    "$\\theta_d$ = Process Deadtime in seconds<br>\n",
    "$s$ = Laplace operator\n",
    "\n",
    "### Integrator or Near Integrator\n",
    "Example process is liquid level in a tank.\n",
    "\n",
    "Laplace Transfer Function\n",
    "\n",
    "$G(s) = \\frac{K_p e^{-\\theta_d s}}{s}$\n",
    "\n",
    "### Parameter Estimation\n",
    "#### Self Regulating \n",
    "Choose largest process gain, longest deadtime and longest time constant.\n",
    "\n",
    "#### Integrator\n",
    "Choose smallest process gain and longest deadtime."
   ]
  },
  {
   "cell_type": "markdown",
   "id": "dd5fb0b6",
   "metadata": {},
   "source": [
    "\n",
    "## Lambda Tuning PI\n",
    "Process:\n",
    "\n",
    "Approximate plant process as first-order integrator or self-regulator. Choose a closed loop time constant ($\\lambda$) such that it is 2-4 times the maximum of the deadtime and/or time constant (start with 3 times). Tune and monitor/adjust as needed.\n",
    "\n",
    "### Self Regulating Process\n",
    "$K_c = \\frac{\\tau}{K_p (\\lambda + \\theta_d)}$<br>\n",
    "$T_i = \\tau$<br>\n",
    "$T_d = 0$<br>\n",
    "Where:\n",
    "\n",
    "$K_c$ = Controller gain in percent/percent<br>\n",
    "$T_i$ = Controller integral action in seconds<br>\n",
    "$T_d$ = Controller derivative action in seconds\n",
    "\n",
    "\n",
    "### Integrator or Near Integrator\n",
    "$K_c = \\frac{2\\lambda + \\theta_d}{K_p (\\lambda + \\theta_d)^2}$<br>\n",
    "$T_i = 2\\lambda + \\theta_d$<br>\n",
    "$T_d = 0$\n",
    "\n",
    "#### Integrator Stability Check\n",
    "$T_i > \\frac{2}{K_c K_p}$"
   ]
  },
  {
   "cell_type": "markdown",
   "id": "a637c7c6",
   "metadata": {},
   "source": [
    "## Internal Model Control (IMC) Tuning\n",
    "### Self Regulating\n",
    "#### PI Controller\n",
    "$K_c = \\frac{2\\tau + \\theta_d}{2 K_p \\lambda}$<br>\n",
    "$T_i = \\tau + 0.5\\theta_d$<br>\n",
    "$T_d = 0$\n",
    "\n",
    "#### PID Controller for Standard/Non-interactive/Series Structure\n",
    "$K_c = \\frac{2\\tau + \\theta_d}{2 K_p (\\lambda + \\theta_d)}$<br>\n",
    "$T_i = \\tau + 0.5\\theta_d$<br>\n",
    "$T_d = \\frac{\\tau \\theta_d}{2\\tau + \\theta_d}$\n",
    "\n"
   ]
  },
  {
   "cell_type": "code",
   "execution_count": null,
   "id": "e779883a",
   "metadata": {},
   "outputs": [],
   "source": []
  }
 ],
 "metadata": {
  "kernelspec": {
   "display_name": "Python 3 (ipykernel)",
   "language": "python",
   "name": "python3"
  },
  "language_info": {
   "codemirror_mode": {
    "name": "ipython",
    "version": 3
   },
   "file_extension": ".py",
   "mimetype": "text/x-python",
   "name": "python",
   "nbconvert_exporter": "python",
   "pygments_lexer": "ipython3",
   "version": "3.9.7"
  }
 },
 "nbformat": 4,
 "nbformat_minor": 5
}
